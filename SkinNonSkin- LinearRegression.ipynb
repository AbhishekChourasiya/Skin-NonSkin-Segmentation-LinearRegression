{
 "cells": [
  {
   "cell_type": "code",
   "execution_count": null,
   "metadata": {
    "scrolled": false
   },
   "outputs": [],
   "source": []
  },
  {
   "cell_type": "code",
   "execution_count": null,
   "metadata": {},
   "outputs": [],
   "source": [
    "                                                                     \n",
    "                                                                     \n",
    "                                                                     \n"
   ]
  },
  {
   "cell_type": "code",
   "execution_count": null,
   "metadata": {},
   "outputs": [],
   "source": []
  },
  {
   "cell_type": "code",
   "execution_count": 1,
   "metadata": {},
   "outputs": [
    {
     "name": "stdout",
     "output_type": "stream",
     "text": [
      "pseudo\n",
      "(3, 245057)\n",
      "[[-4.29870892e-09 -4.59540942e-09 -4.89210993e-09 ...  3.31541752e-08\n",
      "   3.31541752e-08  7.56586296e-08]\n",
      " [-3.54222327e-08 -3.51989675e-08 -3.49757022e-08 ...  4.03154697e-08\n",
      "   4.03154697e-08 -5.69326348e-08]\n",
      " [ 6.15349377e-08  6.13818019e-08  6.12286661e-08 ... -4.41252204e-08\n",
      "  -4.41252204e-08  3.90496291e-08]]\n",
      "r [0.33868622 0.33868622 0.34997576 ... 0.15741276 0.14612322 0.14612322]\n",
      "p shape (114300,)\n",
      "p [0.58387135 0.58387135 0.5866117  ... 0.53927213 0.53646594 0.53646594]\n",
      "final PREDICTION\n",
      "[0.58387135 0.58387135 0.5866117  ... 0.53927213 0.53646594 0.53646594]\n"
     ]
    }
   ],
   "source": [
    "import csv\n",
    "import numpy as np\n",
    "from scipy import linalg as spl \n",
    "from PIL import Image\n",
    "import matplotlib.pyplot as plt\n",
    "\n",
    "def logRegress(X, Tx,y):\n",
    "    \n",
    "    #pseudoinverse\n",
    "    Xp = np.linalg.pinv(X)    \n",
    " \n",
    "    \n",
    "    print(\"pseudo\")\n",
    "    print(Xp.shape)\n",
    "    print(Xp)\n",
    " \n",
    "    \n",
    "    A = np.dot(Xp, y)\n",
    "    \n",
    "      \n",
    "    \n",
    "    \n",
    "    Y = Tx\n",
    "    Yt = Y.transpose()\n",
    "    r = np.dot(A, Yt)\n",
    "    #final values\n",
    "    print(\"r\",r)\n",
    "    \n",
    "    p = np.exp(r)/(1+np.exp(r))\n",
    "\n",
    "    \n",
    "    print(\"p shape\",p.shape)\n",
    "\n",
    "\n",
    "    print(\"p\",p)\n",
    "    return p\n",
    "    \n",
    "    \n",
    "def main():\n",
    " \n",
    "    dataset = np.genfromtxt('skin.csv',delimiter=',')\n",
    "    classdataset =np.genfromtxt('skinclass.csv',delimiter=',')    \n",
    "    #Creating Imageset as input.\n",
    "    myImage= Image.open('newface.jpg').convert('RGBA').convert('RGB')\n",
    "    myImage.show();\n",
    "    imageset = np.array(myImage.getdata())\n",
    "       \n",
    "    #Generating Output Matrix.\n",
    "    p =logRegress(dataset,imageset,classdataset)\n",
    "    \n",
    "    print(\"final PREDICTION\")\n",
    "    print(p)\n",
    "    \n",
    "    \n",
    "    #Generating Output Image.\n",
    "    outImage = Image.new(myImage.mode, myImage.size)\n",
    "    outImageSet = list(outImage.getdata())\n",
    "    for i in range(len(outImageSet)):\n",
    "        if (p[i] <= 0.85):\n",
    "            #print('yes')\n",
    "            outImageSet[i] = (0,0,0,0)\n",
    "        else:\n",
    "            #print('no')\n",
    "            outImageSet[i] = (255,255,255,0)\n",
    "            \n",
    "    outImage.putdata(outImageSet);\n",
    "    outImage.show()\n",
    "    outImage.save('out.jpg')\n",
    "    outImage.close()\n",
    "\n",
    "    \n",
    "main()"
   ]
  },
  {
   "cell_type": "code",
   "execution_count": 103,
   "metadata": {},
   "outputs": [
    {
     "name": "stdout",
     "output_type": "stream",
     "text": [
      "hi\n"
     ]
    }
   ],
   "source": []
  },
  {
   "cell_type": "code",
   "execution_count": null,
   "metadata": {},
   "outputs": [],
   "source": []
  }
 ],
 "metadata": {
  "kernelspec": {
   "display_name": "Python 3",
   "language": "python",
   "name": "python3"
  },
  "language_info": {
   "codemirror_mode": {
    "name": "ipython",
    "version": 3
   },
   "file_extension": ".py",
   "mimetype": "text/x-python",
   "name": "python",
   "nbconvert_exporter": "python",
   "pygments_lexer": "ipython3",
   "version": "3.6.4"
  }
 },
 "nbformat": 4,
 "nbformat_minor": 2
}
